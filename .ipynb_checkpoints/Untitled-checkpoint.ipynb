{
 "cells": [
  {
   "cell_type": "code",
   "execution_count": 2,
   "metadata": {},
   "outputs": [],
   "source": [
    "import numpy as np\n",
    "\n",
    "np.random.seed(12345)\n",
    "np.set_printoptions(precision=4, suppress=True)"
   ]
  },
  {
   "cell_type": "code",
   "execution_count": 37,
   "metadata": {},
   "outputs": [
    {
     "name": "stdout",
     "output_type": "stream",
     "text": [
      "<class 'numpy.ndarray'>\n"
     ]
    },
    {
     "data": {
      "text/plain": [
       "'float64'"
      ]
     },
     "execution_count": 37,
     "metadata": {},
     "output_type": "execute_result"
    }
   ],
   "source": [
    "import numpy as np\n",
    "\n",
    "a = np.arange(15).reshape(3, 5)\n",
    "a\n",
    "a.shape\n",
    "a.ndim\n",
    "a.dtype.name\n",
    "a.size\n",
    "type(a)\n",
    "b = np.array([5, 6, 7])\n",
    "b\n",
    "b.dtype.name\n",
    "print(type(b))\n",
    "b.dtype.name\n",
    "c = np.array([[1, 2], [3, 4]], dtype=complex)\n",
    "c\n",
    "d = np.zeros((3, 4))\n",
    "d\n",
    "e = np.ones((2, 3, 4), dtype=np.int16)\n",
    "e\n",
    "f = np.empty((2, 3))\n",
    "f\n",
    "np.arange(10, 20, 3)\n",
    "np.arange(0, 2, 0.3)\n",
    "from numpy import pi\n",
    "np.linspace(0, 2, 9)\n",
    "x = np.linspace(0, 2*pi, 100)\n",
    "np.sin(x)\n",
    "x.ndim\n",
    "x.shape\n",
    "x.itemsize\n",
    "x.data\n",
    "x.dtype\n",
    "x.dtype.name"
   ]
  },
  {
   "cell_type": "code",
   "execution_count": 62,
   "metadata": {},
   "outputs": [
    {
     "data": {
      "text/plain": [
       "array([[6.3674, 6.4986, 6.2266],\n",
       "       [6.3536, 6.6509, 6.3129]])"
      ]
     },
     "execution_count": 62,
     "metadata": {},
     "output_type": "execute_result"
    }
   ],
   "source": [
    "a = np.array([20, 30, 40, 50])\n",
    "b = np.arange(4)\n",
    "a - b\n",
    "b ** 2\n",
    "10 * np.sin(a)\n",
    "a < 35\n",
    "c = np.array([[1, 1],\n",
    "              [0, 1]])\n",
    "d = np.array([[2, 0], \n",
    "              [3, 4]])\n",
    "c * d\n",
    "c @ d\n",
    "c.dot(d)\n",
    "#print(a)\n",
    "#print(b)\n",
    "#print(a @ b)\n",
    "#print(a * b)\n",
    "a.dot(b)\n",
    "\n",
    "e = np.ones((2, 3), dtype=int)\n",
    "f = np.random.random((2, 3))\n",
    "\n",
    "e *= 3\n",
    "e\n",
    "f += e\n",
    "f\n",
    "f.cumsum(axis=0)\n",
    "b = np.arange(3)\n",
    "np.exp(b)\n",
    "np.sqrt(b)\n",
    "np.add(e,f)\n"
   ]
  },
  {
   "cell_type": "code",
   "execution_count": 71,
   "metadata": {},
   "outputs": [
    {
     "name": "stdout",
     "output_type": "stream",
     "text": [
      "(3, 4)\n"
     ]
    },
    {
     "data": {
      "text/plain": [
       "array([[1., 8., 5., 1.],\n",
       "       [8., 8., 2., 1.],\n",
       "       [8., 3., 3., 5.]])"
      ]
     },
     "execution_count": 71,
     "metadata": {},
     "output_type": "execute_result"
    }
   ],
   "source": [
    "# Do not change the original array\n",
    "a = np.ceil(10*np.random.random((3, 4)))\n",
    "a\n",
    "print(a.shape)\n",
    "a.ravel()\n",
    "a.reshape(6, 2)\n",
    "a.T\n",
    "a.T.shape\n",
    "a"
   ]
  },
  {
   "cell_type": "code",
   "execution_count": null,
   "metadata": {},
   "outputs": [],
   "source": []
  }
 ],
 "metadata": {
  "kernelspec": {
   "display_name": "Python 3",
   "language": "python",
   "name": "python3"
  },
  "language_info": {
   "codemirror_mode": {
    "name": "ipython",
    "version": 3
   },
   "file_extension": ".py",
   "mimetype": "text/x-python",
   "name": "python",
   "nbconvert_exporter": "python",
   "pygments_lexer": "ipython3",
   "version": "3.7.1"
  }
 },
 "nbformat": 4,
 "nbformat_minor": 2
}
